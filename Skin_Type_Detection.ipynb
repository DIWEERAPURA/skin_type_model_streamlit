{
  "nbformat": 4,
  "nbformat_minor": 0,
  "metadata": {
    "colab": {
      "provenance": [],
      "gpuType": "T4",
      "authorship_tag": "ABX9TyOenpVUWFiSSGNl/SeefNSx",
      "include_colab_link": true
    },
    "kernelspec": {
      "name": "python3",
      "display_name": "Python 3"
    },
    "language_info": {
      "name": "python"
    },
    "accelerator": "GPU"
  },
  "cells": [
    {
      "cell_type": "markdown",
      "metadata": {
        "id": "view-in-github",
        "colab_type": "text"
      },
      "source": [
        "<a href=\"https://colab.research.google.com/github/DIWEERAPURA/skin_type_model_streamlit/blob/master/Skin_Type_Detection.ipynb\" target=\"_parent\"><img src=\"https://colab.research.google.com/assets/colab-badge.svg\" alt=\"Open In Colab\"/></a>"
      ]
    },
    {
      "cell_type": "code",
      "execution_count": null,
      "metadata": {
        "colab": {
          "base_uri": "https://localhost:8080/",
          "height": 1000
        },
        "id": "iIo0pET3fTAK",
        "outputId": "a221afc3-61c1-4263-914b-9a83f130c5bc"
      },
      "outputs": [
        {
          "output_type": "stream",
          "name": "stdout",
          "text": [
            "Mounted at /content/drive\n",
            "Found 939 images belonging to 4 classes.\n",
            "Found 200 images belonging to 4 classes.\n",
            "Found 204 images belonging to 4 classes.\n",
            "Downloading data from https://storage.googleapis.com/tensorflow/keras-applications/vgg16/vgg16_weights_tf_dim_ordering_tf_kernels_notop.h5\n",
            "\u001b[1m58889256/58889256\u001b[0m \u001b[32m━━━━━━━━━━━━━━━━━━━━\u001b[0m\u001b[37m\u001b[0m \u001b[1m0s\u001b[0m 0us/step\n"
          ]
        },
        {
          "output_type": "stream",
          "name": "stderr",
          "text": [
            "/usr/local/lib/python3.11/dist-packages/keras/src/trainers/data_adapters/py_dataset_adapter.py:121: UserWarning: Your `PyDataset` class should call `super().__init__(**kwargs)` in its constructor. `**kwargs` can include `workers`, `use_multiprocessing`, `max_queue_size`. Do not pass these arguments to `fit()`, as they will be ignored.\n",
            "  self._warn_if_super_not_called()\n"
          ]
        },
        {
          "output_type": "stream",
          "name": "stdout",
          "text": [
            "Epoch 1/50\n",
            "\u001b[1m30/30\u001b[0m \u001b[32m━━━━━━━━━━━━━━━━━━━━\u001b[0m\u001b[37m\u001b[0m \u001b[1m0s\u001b[0m 711ms/step - accuracy: 0.4624 - loss: 1.3252"
          ]
        },
        {
          "output_type": "stream",
          "name": "stderr",
          "text": [
            "WARNING:absl:You are saving your model as an HDF5 file via `model.save()` or `keras.saving.save_model(model)`. This file format is considered legacy. We recommend using instead the native Keras format, e.g. `model.save('my_model.keras')` or `keras.saving.save_model(model, 'my_model.keras')`. \n"
          ]
        },
        {
          "output_type": "stream",
          "name": "stdout",
          "text": [
            "\b\b\b\b\b\b\b\b\b\b\b\b\b\b\b\b\b\b\b\b\b\b\b\b\b\b\b\b\b\b\b\b\b\b\b\b\b\b\b\b\b\b\b\b\b\b\b\b\b\b\b\b\b\b\b\b\b\b\b\b\b\b\b\b\b\b\b\b\b\b\b\b\b\b\r\u001b[1m30/30\u001b[0m \u001b[32m━━━━━━━━━━━━━━━━━━━━\u001b[0m\u001b[37m\u001b[0m \u001b[1m46s\u001b[0m 1s/step - accuracy: 0.4654 - loss: 1.3182 - val_accuracy: 0.7000 - val_loss: 0.7715\n",
            "Epoch 2/50\n",
            "\u001b[1m30/30\u001b[0m \u001b[32m━━━━━━━━━━━━━━━━━━━━\u001b[0m\u001b[37m\u001b[0m \u001b[1m0s\u001b[0m 488ms/step - accuracy: 0.6502 - loss: 0.8706"
          ]
        },
        {
          "output_type": "stream",
          "name": "stderr",
          "text": [
            "WARNING:absl:You are saving your model as an HDF5 file via `model.save()` or `keras.saving.save_model(model)`. This file format is considered legacy. We recommend using instead the native Keras format, e.g. `model.save('my_model.keras')` or `keras.saving.save_model(model, 'my_model.keras')`. \n"
          ]
        },
        {
          "output_type": "stream",
          "name": "stdout",
          "text": [
            "\b\b\b\b\b\b\b\b\b\b\b\b\b\b\b\b\b\b\b\b\b\b\b\b\b\b\b\b\b\b\b\b\b\b\b\b\b\b\b\b\b\b\b\b\b\b\b\b\b\b\b\b\b\b\b\b\b\b\b\b\b\b\b\b\b\b\b\b\b\b\b\b\b\b\r\u001b[1m30/30\u001b[0m \u001b[32m━━━━━━━━━━━━━━━━━━━━\u001b[0m\u001b[37m\u001b[0m \u001b[1m54s\u001b[0m 557ms/step - accuracy: 0.6508 - loss: 0.8689 - val_accuracy: 0.6950 - val_loss: 0.7150\n",
            "Epoch 3/50\n",
            "\u001b[1m30/30\u001b[0m \u001b[32m━━━━━━━━━━━━━━━━━━━━\u001b[0m\u001b[37m\u001b[0m \u001b[1m0s\u001b[0m 490ms/step - accuracy: 0.7084 - loss: 0.7462"
          ]
        },
        {
          "output_type": "stream",
          "name": "stderr",
          "text": [
            "WARNING:absl:You are saving your model as an HDF5 file via `model.save()` or `keras.saving.save_model(model)`. This file format is considered legacy. We recommend using instead the native Keras format, e.g. `model.save('my_model.keras')` or `keras.saving.save_model(model, 'my_model.keras')`. \n"
          ]
        },
        {
          "output_type": "stream",
          "name": "stdout",
          "text": [
            "\b\b\b\b\b\b\b\b\b\b\b\b\b\b\b\b\b\b\b\b\b\b\b\b\b\b\b\b\b\b\b\b\b\b\b\b\b\b\b\b\b\b\b\b\b\b\b\b\b\b\b\b\b\b\b\b\b\b\b\b\b\b\b\b\b\b\b\b\b\b\b\b\b\b\r\u001b[1m30/30\u001b[0m \u001b[32m━━━━━━━━━━━━━━━━━━━━\u001b[0m\u001b[37m\u001b[0m \u001b[1m17s\u001b[0m 569ms/step - accuracy: 0.7090 - loss: 0.7454 - val_accuracy: 0.7350 - val_loss: 0.6536\n",
            "Epoch 4/50\n",
            "\u001b[1m30/30\u001b[0m \u001b[32m━━━━━━━━━━━━━━━━━━━━\u001b[0m\u001b[37m\u001b[0m \u001b[1m0s\u001b[0m 506ms/step - accuracy: 0.7412 - loss: 0.6459"
          ]
        },
        {
          "output_type": "stream",
          "name": "stderr",
          "text": [
            "WARNING:absl:You are saving your model as an HDF5 file via `model.save()` or `keras.saving.save_model(model)`. This file format is considered legacy. We recommend using instead the native Keras format, e.g. `model.save('my_model.keras')` or `keras.saving.save_model(model, 'my_model.keras')`. \n"
          ]
        },
        {
          "output_type": "stream",
          "name": "stdout",
          "text": [
            "\b\b\b\b\b\b\b\b\b\b\b\b\b\b\b\b\b\b\b\b\b\b\b\b\b\b\b\b\b\b\b\b\b\b\b\b\b\b\b\b\b\b\b\b\b\b\b\b\b\b\b\b\b\b\b\b\b\b\b\b\b\b\b\b\b\b\b\b\b\b\b\b\b\b\r\u001b[1m30/30\u001b[0m \u001b[32m━━━━━━━━━━━━━━━━━━━━\u001b[0m\u001b[37m\u001b[0m \u001b[1m18s\u001b[0m 577ms/step - accuracy: 0.7414 - loss: 0.6459 - val_accuracy: 0.7550 - val_loss: 0.6331\n",
            "Epoch 5/50\n",
            "\u001b[1m30/30\u001b[0m \u001b[32m━━━━━━━━━━━━━━━━━━━━\u001b[0m\u001b[37m\u001b[0m \u001b[1m20s\u001b[0m 585ms/step - accuracy: 0.7604 - loss: 0.6344 - val_accuracy: 0.7600 - val_loss: 0.6385\n",
            "Epoch 6/50\n",
            "\u001b[1m30/30\u001b[0m \u001b[32m━━━━━━━━━━━━━━━━━━━━\u001b[0m\u001b[37m\u001b[0m \u001b[1m0s\u001b[0m 488ms/step - accuracy: 0.7646 - loss: 0.5849"
          ]
        },
        {
          "output_type": "stream",
          "name": "stderr",
          "text": [
            "WARNING:absl:You are saving your model as an HDF5 file via `model.save()` or `keras.saving.save_model(model)`. This file format is considered legacy. We recommend using instead the native Keras format, e.g. `model.save('my_model.keras')` or `keras.saving.save_model(model, 'my_model.keras')`. \n"
          ]
        },
        {
          "output_type": "stream",
          "name": "stdout",
          "text": [
            "\b\b\b\b\b\b\b\b\b\b\b\b\b\b\b\b\b\b\b\b\b\b\b\b\b\b\b\b\b\b\b\b\b\b\b\b\b\b\b\b\b\b\b\b\b\b\b\b\b\b\b\b\b\b\b\b\b\b\b\b\b\b\b\b\b\b\b\b\b\b\b\b\b\b\r\u001b[1m30/30\u001b[0m \u001b[32m━━━━━━━━━━━━━━━━━━━━\u001b[0m\u001b[37m\u001b[0m \u001b[1m17s\u001b[0m 557ms/step - accuracy: 0.7644 - loss: 0.5857 - val_accuracy: 0.7650 - val_loss: 0.5932\n",
            "Epoch 7/50\n",
            "\u001b[1m30/30\u001b[0m \u001b[32m━━━━━━━━━━━━━━━━━━━━\u001b[0m\u001b[37m\u001b[0m \u001b[1m17s\u001b[0m 563ms/step - accuracy: 0.7630 - loss: 0.5960 - val_accuracy: 0.7550 - val_loss: 0.6162\n",
            "Epoch 8/50\n",
            "\u001b[1m30/30\u001b[0m \u001b[32m━━━━━━━━━━━━━━━━━━━━\u001b[0m\u001b[37m\u001b[0m \u001b[1m0s\u001b[0m 492ms/step - accuracy: 0.7608 - loss: 0.6236"
          ]
        },
        {
          "output_type": "stream",
          "name": "stderr",
          "text": [
            "WARNING:absl:You are saving your model as an HDF5 file via `model.save()` or `keras.saving.save_model(model)`. This file format is considered legacy. We recommend using instead the native Keras format, e.g. `model.save('my_model.keras')` or `keras.saving.save_model(model, 'my_model.keras')`. \n"
          ]
        },
        {
          "output_type": "stream",
          "name": "stdout",
          "text": [
            "\b\b\b\b\b\b\b\b\b\b\b\b\b\b\b\b\b\b\b\b\b\b\b\b\b\b\b\b\b\b\b\b\b\b\b\b\b\b\b\b\b\b\b\b\b\b\b\b\b\b\b\b\b\b\b\b\b\b\b\b\b\b\b\b\b\b\b\b\b\b\b\b\b\b\r\u001b[1m30/30\u001b[0m \u001b[32m━━━━━━━━━━━━━━━━━━━━\u001b[0m\u001b[37m\u001b[0m \u001b[1m17s\u001b[0m 560ms/step - accuracy: 0.7612 - loss: 0.6228 - val_accuracy: 0.7700 - val_loss: 0.5913\n",
            "Epoch 9/50\n",
            "\u001b[1m30/30\u001b[0m \u001b[32m━━━━━━━━━━━━━━━━━━━━\u001b[0m\u001b[37m\u001b[0m \u001b[1m20s\u001b[0m 533ms/step - accuracy: 0.8213 - loss: 0.5257 - val_accuracy: 0.7600 - val_loss: 0.6302\n",
            "Epoch 10/50\n",
            "\u001b[1m30/30\u001b[0m \u001b[32m━━━━━━━━━━━━━━━━━━━━\u001b[0m\u001b[37m\u001b[0m \u001b[1m0s\u001b[0m 516ms/step - accuracy: 0.8026 - loss: 0.5114"
          ]
        },
        {
          "output_type": "stream",
          "name": "stderr",
          "text": [
            "WARNING:absl:You are saving your model as an HDF5 file via `model.save()` or `keras.saving.save_model(model)`. This file format is considered legacy. We recommend using instead the native Keras format, e.g. `model.save('my_model.keras')` or `keras.saving.save_model(model, 'my_model.keras')`. \n"
          ]
        },
        {
          "output_type": "stream",
          "name": "stdout",
          "text": [
            "\b\b\b\b\b\b\b\b\b\b\b\b\b\b\b\b\b\b\b\b\b\b\b\b\b\b\b\b\b\b\b\b\b\b\b\b\b\b\b\b\b\b\b\b\b\b\b\b\b\b\b\b\b\b\b\b\b\b\b\b\b\b\b\b\b\b\b\b\b\b\b\b\b\b\r\u001b[1m30/30\u001b[0m \u001b[32m━━━━━━━━━━━━━━━━━━━━\u001b[0m\u001b[37m\u001b[0m \u001b[1m18s\u001b[0m 590ms/step - accuracy: 0.8021 - loss: 0.5123 - val_accuracy: 0.7700 - val_loss: 0.5660\n",
            "Epoch 11/50\n",
            "\u001b[1m30/30\u001b[0m \u001b[32m━━━━━━━━━━━━━━━━━━━━\u001b[0m\u001b[37m\u001b[0m \u001b[1m0s\u001b[0m 489ms/step - accuracy: 0.8003 - loss: 0.5073"
          ]
        },
        {
          "output_type": "stream",
          "name": "stderr",
          "text": [
            "WARNING:absl:You are saving your model as an HDF5 file via `model.save()` or `keras.saving.save_model(model)`. This file format is considered legacy. We recommend using instead the native Keras format, e.g. `model.save('my_model.keras')` or `keras.saving.save_model(model, 'my_model.keras')`. \n"
          ]
        },
        {
          "output_type": "stream",
          "name": "stdout",
          "text": [
            "\b\b\b\b\b\b\b\b\b\b\b\b\b\b\b\b\b\b\b\b\b\b\b\b\b\b\b\b\b\b\b\b\b\b\b\b\b\b\b\b\b\b\b\b\b\b\b\b\b\b\b\b\b\b\b\b\b\b\b\b\b\b\b\b\b\b\b\b\b\b\b\b\b\b\r\u001b[1m30/30\u001b[0m \u001b[32m━━━━━━━━━━━━━━━━━━━━\u001b[0m\u001b[37m\u001b[0m \u001b[1m19s\u001b[0m 560ms/step - accuracy: 0.8003 - loss: 0.5075 - val_accuracy: 0.7850 - val_loss: 0.5534\n",
            "Epoch 12/50\n",
            "\u001b[1m30/30\u001b[0m \u001b[32m━━━━━━━━━━━━━━━━━━━━\u001b[0m\u001b[37m\u001b[0m \u001b[1m17s\u001b[0m 578ms/step - accuracy: 0.7860 - loss: 0.4997 - val_accuracy: 0.8050 - val_loss: 0.5862\n",
            "Epoch 13/50\n",
            "\u001b[1m30/30\u001b[0m \u001b[32m━━━━━━━━━━━━━━━━━━━━\u001b[0m\u001b[37m\u001b[0m \u001b[1m17s\u001b[0m 548ms/step - accuracy: 0.8021 - loss: 0.5088 - val_accuracy: 0.7800 - val_loss: 0.5976\n",
            "Epoch 14/50\n",
            "\u001b[1m30/30\u001b[0m \u001b[32m━━━━━━━━━━━━━━━━━━━━\u001b[0m\u001b[37m\u001b[0m \u001b[1m17s\u001b[0m 577ms/step - accuracy: 0.8244 - loss: 0.4769 - val_accuracy: 0.7700 - val_loss: 0.6241\n",
            "Epoch 15/50\n",
            "\u001b[1m30/30\u001b[0m \u001b[32m━━━━━━━━━━━━━━━━━━━━\u001b[0m\u001b[37m\u001b[0m \u001b[1m16s\u001b[0m 543ms/step - accuracy: 0.8226 - loss: 0.5037 - val_accuracy: 0.8150 - val_loss: 0.5595\n",
            "Epoch 16/50\n",
            "\u001b[1m30/30\u001b[0m \u001b[32m━━━━━━━━━━━━━━━━━━━━\u001b[0m\u001b[37m\u001b[0m \u001b[1m17s\u001b[0m 580ms/step - accuracy: 0.8481 - loss: 0.4146 - val_accuracy: 0.7950 - val_loss: 0.5634\n",
            "\u001b[1m7/7\u001b[0m \u001b[32m━━━━━━━━━━━━━━━━━━━━\u001b[0m\u001b[37m\u001b[0m \u001b[1m7s\u001b[0m 1s/step - accuracy: 0.8794 - loss: 0.3280\n",
            "Test Accuracy: 84.31%\n",
            "\u001b[1m7/7\u001b[0m \u001b[32m━━━━━━━━━━━━━━━━━━━━\u001b[0m\u001b[37m\u001b[0m \u001b[1m3s\u001b[0m 353ms/step\n",
            "Classification Report\n",
            "              precision    recall  f1-score   support\n",
            "\n",
            "    Dry Skin       0.94      0.97      0.95        60\n",
            "   Acne Skin       0.82      0.66      0.73        35\n",
            "   Oily Skin       0.88      0.92      0.90        72\n",
            " Normal Skin       0.64      0.68      0.66        37\n",
            "\n",
            "    accuracy                           0.84       204\n",
            "   macro avg       0.82      0.80      0.81       204\n",
            "weighted avg       0.84      0.84      0.84       204\n",
            "\n",
            "Confusion Matrix\n",
            "[[58  1  0  1]\n",
            " [ 3 23  2  7]\n",
            " [ 0  0 66  6]\n",
            " [ 1  4  7 25]]\n"
          ]
        },
        {
          "output_type": "display_data",
          "data": {
            "text/plain": [
              "<Figure size 1200x400 with 2 Axes>"
            ],
            "image/png": "[encoded data removed]"
          },
          "metadata": {}
        }
      ],
      "source": [
        "# Import necessary libraries\n",
        "import tensorflow as tf\n",
        "from tensorflow.keras.preprocessing.image import ImageDataGenerator\n",
        "from tensorflow.keras.applications import VGG16\n",
        "from tensorflow.keras.models import Model\n",
        "from tensorflow.keras.layers import Dense, Flatten, Dropout\n",
        "from tensorflow.keras.optimizers import Adam\n",
        "from tensorflow.keras.callbacks import EarlyStopping, ModelCheckpoint\n",
        "from sklearn.metrics import classification_report, confusion_matrix\n",
        "import matplotlib.pyplot as plt\n",
        "import numpy as np\n",
        "import os\n",
        "import zipfile\n",
        "from google.colab import files\n",
        "from sklearn.model_selection import train_test_split\n",
        "import shutil\n",
        "\n",
        "# Mount Google Drive to access the dataset\n",
        "from google.colab import drive\n",
        "drive.mount('/content/drive')\n",
        "\n",
        "# Define the path to the dataset\n",
        "dataset_path = '/content/drive/MyDrive/DataSet'\n",
        "\n",
        "# Define paths for train, validation, and test directories\n",
        "base_dir = '/content/skin_type_data'\n",
        "train_dir = os.path.join(base_dir, 'train')\n",
        "val_dir = os.path.join(base_dir, 'val')\n",
        "test_dir = os.path.join(base_dir, 'test')\n",
        "\n",
        "# Define the categories\n",
        "categories = ['Dry Skin', 'Acne Skin', 'Oily Skin', 'Normal Skin']\n",
        "\n",
        "# Create directories for train, validation, and test sets\n",
        "for category in categories:\n",
        "    os.makedirs(os.path.join(train_dir, category), exist_ok=True)\n",
        "    os.makedirs(os.path.join(val_dir, category), exist_ok=True)\n",
        "    os.makedirs(os.path.join(test_dir, category), exist_ok=True)\n",
        "\n",
        "# Function to split data into train, validation, and test sets\n",
        "def split_data(SOURCE, TRAINING, VALIDATION, TESTING, SPLIT_SIZE):\n",
        "    all_files = os.listdir(SOURCE)\n",
        "    np.random.shuffle(all_files)\n",
        "    train_size = int(len(all_files) * SPLIT_SIZE[0])\n",
        "    val_size = int(len(all_files) * SPLIT_SIZE[1])\n",
        "    train_files = all_files[:train_size]\n",
        "    val_files = all_files[train_size:train_size + val_size]\n",
        "    test_files = all_files[train_size + val_size:]\n",
        "\n",
        "    for file_name in train_files:\n",
        "        shutil.copy(os.path.join(SOURCE, file_name), os.path.join(TRAINING, file_name))\n",
        "    for file_name in val_files:\n",
        "        shutil.copy(os.path.join(SOURCE, file_name), os.path.join(VALIDATION, file_name))\n",
        "    for file_name in test_files:\n",
        "        shutil.copy(os.path.join(SOURCE, file_name), os.path.join(TESTING, file_name))\n",
        "\n",
        "# Split the data\n",
        "split_size = [0.7, 0.15, 0.15]  # 70% train, 15% validation, 15% test\n",
        "for category in categories:\n",
        "    category_path = os.path.join(dataset_path, category)\n",
        "    train_category_path = os.path.join(train_dir, category)\n",
        "    val_category_path = os.path.join(val_dir, category)\n",
        "    test_category_path = os.path.join(test_dir, category)\n",
        "    split_data(category_path, train_category_path, val_category_path, test_category_path, split_size)\n",
        "\n",
        "# Data augmentation and preprocessing\n",
        "train_datagen = ImageDataGenerator(\n",
        "    rescale=1./255,\n",
        "    rotation_range=20,\n",
        "    width_shift_range=0.2,\n",
        "    height_shift_range=0.2,\n",
        "    shear_range=0.2,\n",
        "    zoom_range=0.2,\n",
        "    horizontal_flip=True,\n",
        "    fill_mode='nearest'\n",
        ")\n",
        "\n",
        "val_test_datagen = ImageDataGenerator(rescale=1./255)\n",
        "\n",
        "# Data generators\n",
        "train_generator = train_datagen.flow_from_directory(\n",
        "    train_dir,\n",
        "    target_size=(224, 224),\n",
        "    batch_size=32,\n",
        "    class_mode='categorical'\n",
        ")\n",
        "\n",
        "val_generator = val_test_datagen.flow_from_directory(\n",
        "    val_dir,\n",
        "    target_size=(224, 224),\n",
        "    batch_size=32,\n",
        "    class_mode='categorical'\n",
        ")\n",
        "\n",
        "test_generator = val_test_datagen.flow_from_directory(\n",
        "    test_dir,\n",
        "    target_size=(224, 224),\n",
        "    batch_size=32,\n",
        "    class_mode='categorical',\n",
        "    shuffle=False\n",
        ")\n",
        "\n",
        "# Load the VGG16 model with pre-trained ImageNet weights\n",
        "base_model = VGG16(weights='imagenet', include_top=False, input_shape=(224, 224, 3))\n",
        "\n",
        "# Freeze the base model\n",
        "for layer in base_model.layers:\n",
        "    layer.trainable = False\n",
        "\n",
        "# Add custom layers on top of VGG16\n",
        "x = base_model.output\n",
        "x = Flatten()(x)\n",
        "x = Dense(512, activation='relu')(x)\n",
        "x = Dropout(0.5)(x)\n",
        "predictions = Dense(len(categories), activation='softmax')(x)\n",
        "\n",
        "# Create the model\n",
        "model = Model(inputs=base_model.input, outputs=predictions)\n",
        "\n",
        "# Compile the model\n",
        "model.compile(optimizer=Adam(learning_rate=0.0001), loss='categorical_crossentropy', metrics=['accuracy'])\n",
        "\n",
        "# Callbacks\n",
        "early_stopping = EarlyStopping(monitor='val_loss', patience=5, restore_best_weights=True)\n",
        "model_checkpoint = ModelCheckpoint('best_model.h5', monitor='val_loss', save_best_only=True)\n",
        "\n",
        "# Train the model\n",
        "history = model.fit(\n",
        "    train_generator,\n",
        "    epochs=50,\n",
        "    validation_data=val_generator,\n",
        "    callbacks=[early_stopping, model_checkpoint]\n",
        ")\n",
        "\n",
        "# Load the best model\n",
        "model.load_weights('best_model.h5')\n",
        "\n",
        "# Evaluate the model on the test set\n",
        "test_loss, test_accuracy = model.evaluate(test_generator)\n",
        "print(f'Test Accuracy: {test_accuracy * 100:.2f}%')\n",
        "\n",
        "# Generate predictions\n",
        "Y_pred = model.predict(test_generator)\n",
        "y_pred = np.argmax(Y_pred, axis=1)\n",
        "\n",
        "# Classification report\n",
        "print('Classification Report')\n",
        "print(classification_report(test_generator.classes, y_pred, target_names=categories))\n",
        "\n",
        "# Confusion matrix\n",
        "print('Confusion Matrix')\n",
        "print(confusion_matrix(test_generator.classes, y_pred))\n",
        "\n",
        "# Plot training & validation accuracy values\n",
        "plt.figure(figsize=(12, 4))\n",
        "plt.subplot(1, 2, 1)\n",
        "plt.plot(history.history['accuracy'])\n",
        "plt.plot(history.history['val_accuracy'])\n",
        "plt.title('Model accuracy')\n",
        "plt.ylabel('Accuracy')\n",
        "plt.xlabel('Epoch')\n",
        "plt.legend(['Train', 'Validation'], loc='upper left')\n",
        "\n",
        "# Plot training & validation loss values\n",
        "plt.subplot(1, 2, 2)\n",
        "plt.plot(history.history['loss'])\n",
        "plt.plot(history.history['val_loss'])\n",
        "plt.title('Model loss')\n",
        "plt.ylabel('Loss')\n",
        "plt.xlabel('Epoch')\n",
        "plt.legend(['Train', 'Validation'], loc='upper left')\n",
        "\n",
        "plt.show()\n"
      ]
    },
    {
      "cell_type": "code",
      "source": [
        "# Save the model after training\n",
        "model.save('/content/drive/MyDrive/skin_type_model.h5')  # Specify the path where you want to save the model\n"
      ],
      "metadata": {
        "colab": {
          "base_uri": "https://localhost:8080/"
        },
        "id": "o-3wCbbcfbT6",
        "outputId": "e1333eb3-6d1b-4e5e-f999-11253a4f661d"
      },
      "execution_count": null,
      "outputs": [
        {
          "output_type": "stream",
          "name": "stderr",
          "text": [
            "WARNING:absl:You are saving your model as an HDF5 file via `model.save()` or `keras.saving.save_model(model)`. This file format is considered legacy. We recommend using instead the native Keras format, e.g. `model.save('my_model.keras')` or `keras.saving.save_model(model, 'my_model.keras')`. \n"
          ]
        }
      ]
    },
    {
      "cell_type": "code",
      "source": [
        "# Load the saved model\n",
        "model = tf.keras.models.load_model('/content/drive/MyDrive/skin_type_model.h5')\n"
      ],
      "metadata": {
        "colab": {
          "base_uri": "https://localhost:8080/"
        },
        "id": "tgZYo9tWlPJf",
        "outputId": "3ba8f157-8fb1-49b1-bb64-7dd851917009"
      },
      "execution_count": null,
      "outputs": [
        {
          "output_type": "stream",
          "name": "stderr",
          "text": [
            "WARNING:absl:Compiled the loaded model, but the compiled metrics have yet to be built. `model.compile_metrics` will be empty until you train or evaluate the model.\n"
          ]
        }
      ]
    },
    {
      "cell_type": "code",
      "source": [
        "# Uncomment the next line if PyGAD is not already installed\n",
        "!pip install pygad\n",
        "\n",
        "import tensorflow as tf\n",
        "from tensorflow.keras.preprocessing.image import ImageDataGenerator\n",
        "from tensorflow.keras.applications import VGG16\n",
        "from tensorflow.keras.models import Model\n",
        "from tensorflow.keras.layers import Dense, Flatten, Dropout\n",
        "from tensorflow.keras.optimizers import Adam\n",
        "from tensorflow.keras.callbacks import EarlyStopping, ModelCheckpoint\n",
        "from sklearn.metrics import classification_report, confusion_matrix\n",
        "import matplotlib.pyplot as plt\n",
        "import numpy as np\n",
        "import os, shutil\n",
        "import pygad\n",
        "\n",
        "# Mount Google Drive to access the dataset\n",
        "from google.colab import drive\n",
        "drive.mount('/content/drive')\n",
        "\n",
        "# Define the path to the dataset in your Drive\n",
        "dataset_path = '/content/drive/MyDrive/DataSet'\n",
        "\n",
        "# Define paths for train, validation, and test directories (in Colab local storage)\n",
        "base_dir = '/content/skin_type_data'\n",
        "train_dir = os.path.join(base_dir, 'train')\n",
        "val_dir = os.path.join(base_dir, 'val')\n",
        "test_dir = os.path.join(base_dir, 'test')\n",
        "\n",
        "# Define the categories\n",
        "categories = ['Dry Skin', 'Acne Skin', 'Oily Skin', 'Normal Skin']\n",
        "\n",
        "# Create directories for train, validation, and test sets if they don't exist\n",
        "for category in categories:\n",
        "    os.makedirs(os.path.join(train_dir, category), exist_ok=True)\n",
        "    os.makedirs(os.path.join(val_dir, category), exist_ok=True)\n",
        "    os.makedirs(os.path.join(test_dir, category), exist_ok=True)\n",
        "\n",
        "# Function to split data into train, validation, and test sets\n",
        "def split_data(SOURCE, TRAINING, VALIDATION, TESTING, SPLIT_SIZE):\n",
        "    all_files = os.listdir(SOURCE)\n",
        "    np.random.shuffle(all_files)\n",
        "    train_size = int(len(all_files) * SPLIT_SIZE[0])\n",
        "    val_size = int(len(all_files) * SPLIT_SIZE[1])\n",
        "    train_files = all_files[:train_size]\n",
        "    val_files = all_files[train_size:train_size + val_size]\n",
        "    test_files = all_files[train_size + val_size:]\n",
        "\n",
        "    for file_name in train_files:\n",
        "        shutil.copy(os.path.join(SOURCE, file_name), os.path.join(TRAINING, file_name))\n",
        "    for file_name in val_files:\n",
        "        shutil.copy(os.path.join(SOURCE, file_name), os.path.join(VALIDATION, file_name))\n",
        "    for file_name in test_files:\n",
        "        shutil.copy(os.path.join(SOURCE, file_name), os.path.join(TESTING, file_name))\n",
        "\n",
        "# Split the data (70% train, 15% validation, 15% test)\n",
        "split_size = [0.7, 0.15, 0.15]\n",
        "for category in categories:\n",
        "    category_path = os.path.join(dataset_path, category)\n",
        "    train_category_path = os.path.join(train_dir, category)\n",
        "    val_category_path = os.path.join(val_dir, category)\n",
        "    test_category_path = os.path.join(test_dir, category)\n",
        "    split_data(category_path, train_category_path, val_category_path, test_category_path, split_size)\n",
        "\n",
        "# Data augmentation and preprocessing\n",
        "train_datagen = ImageDataGenerator(\n",
        "    rescale=1./255,\n",
        "    rotation_range=20,\n",
        "    width_shift_range=0.2,\n",
        "    height_shift_range=0.2,\n",
        "    shear_range=0.2,\n",
        "    zoom_range=0.2,\n",
        "    horizontal_flip=True,\n",
        "    fill_mode='nearest'\n",
        ")\n",
        "\n",
        "val_test_datagen = ImageDataGenerator(rescale=1./255)\n",
        "\n",
        "# Data generators\n",
        "train_generator = train_datagen.flow_from_directory(\n",
        "    train_dir,\n",
        "    target_size=(224, 224),\n",
        "    batch_size=32,\n",
        "    class_mode='categorical'\n",
        ")\n",
        "\n",
        "val_generator = val_test_datagen.flow_from_directory(\n",
        "    val_dir,\n",
        "    target_size=(224, 224),\n",
        "    batch_size=32,\n",
        "    class_mode='categorical'\n",
        ")\n",
        "\n",
        "test_generator = val_test_datagen.flow_from_directory(\n",
        "    test_dir,\n",
        "    target_size=(224, 224),\n",
        "    batch_size=32,\n",
        "    class_mode='categorical',\n",
        "    shuffle=False\n",
        ")\n",
        "\n",
        "# ----------------------------- #\n",
        "# GA-BASED HYPERPARAMETER TUNING\n",
        "# ----------------------------- #\n",
        "\n",
        "def build_model(learning_rate, dropout_rate, dense_units):\n",
        "    base_model = VGG16(weights='imagenet', include_top=False, input_shape=(224, 224, 3))\n",
        "    # Freeze the base model layers\n",
        "    for layer in base_model.layers:\n",
        "        layer.trainable = False\n",
        "    x = base_model.output\n",
        "    x = Flatten()(x)\n",
        "    x = Dense(dense_units, activation='relu')(x)\n",
        "    x = Dropout(dropout_rate)(x)\n",
        "    predictions = Dense(len(categories), activation='softmax')(x)\n",
        "    model = Model(inputs=base_model.input, outputs=predictions)\n",
        "    model.compile(optimizer=Adam(learning_rate=learning_rate),\n",
        "                  loss='categorical_crossentropy',\n",
        "                  metrics=['accuracy'])\n",
        "    return model\n",
        "\n",
        "# Fitness function: train for a few epochs and return the last validation accuracy\n",
        "def fitness_func(solution, solution_idx):\n",
        "    learning_rate = solution[0]\n",
        "    dropout_rate = solution[1]\n",
        "    dense_units = int(solution[2])\n",
        "\n",
        "    # Build model with candidate hyperparameters\n",
        "    model = build_model(learning_rate, dropout_rate, dense_units)\n",
        "\n",
        "    # Train for only 3 epochs for fast evaluation\n",
        "    history = model.fit(\n",
        "        train_generator,\n",
        "        epochs=3,\n",
        "        validation_data=val_generator,\n",
        "        verbose=0\n",
        "    )\n",
        "\n",
        "    val_accuracy = history.history['val_accuracy'][-1]\n",
        "\n",
        "    # Clear session to free up resources\n",
        "    tf.keras.backend.clear_session()\n",
        "\n",
        "    return val_accuracy\n",
        "\n",
        "# Define gene space: ranges for learning rate, dropout rate, and dense units\n",
        "gene_space = [\n",
        "    {'low': 1e-5, 'high': 1e-2},  # Learning rate\n",
        "    {'low': 0.2, 'high': 0.7},     # Dropout rate\n",
        "    {'low': 256, 'high': 1024}     # Dense layer units\n",
        "]\n",
        "\n",
        "# Create a GA instance using PyGAD\n",
        "ga_instance = pygad.GA(\n",
        "    num_generations=10,\n",
        "    num_parents_mating=3,\n",
        "    fitness_func=fitness_func,\n",
        "    sol_per_pop=5,\n",
        "    num_genes=3,\n",
        "    gene_space=gene_space,\n",
        "    mutation_probability=0.2,\n",
        "    mutation_percent_genes=50,\n",
        "    stop_criteria=[\"reach_0.95\"]\n",
        ")\n",
        "\n",
        "# Run GA optimization\n",
        "ga_instance.run()\n",
        "\n",
        "# Retrieve best solution from GA\n",
        "solution, solution_fitness, solution_idx = ga_instance.best_solution()\n",
        "best_learning_rate = solution[0]\n",
        "best_dropout_rate = solution[1]\n",
        "best_dense_units = int(solution[2])\n",
        "print(\"Best hyperparameters found:\")\n",
        "print(\"Learning Rate:\", best_learning_rate)\n",
        "print(\"Dropout Rate:\", best_dropout_rate)\n",
        "print(\"Dense Units:\", best_dense_units)\n",
        "print(\"Validation Accuracy (Fitness):\", solution_fitness)\n",
        "\n",
        "# ----------------------------- #\n",
        "# FINAL MODEL TRAINING\n",
        "# ----------------------------- #\n",
        "\n",
        "# Build the final model using the best hyperparameters\n",
        "final_model = build_model(best_learning_rate, best_dropout_rate, best_dense_units)\n",
        "\n",
        "# Set up callbacks for training\n",
        "final_early_stopping = EarlyStopping(monitor='val_loss', patience=5, restore_best_weights=True)\n",
        "final_checkpoint = ModelCheckpoint('best_final_model.h5', monitor='val_loss', save_best_only=True)\n",
        "\n",
        "# Train the final model for 50 epochs (or adjust as needed)\n",
        "final_history = final_model.fit(\n",
        "    train_generator,\n",
        "    epochs=50,\n",
        "    validation_data=val_generator,\n",
        "    callbacks=[final_early_stopping, final_checkpoint]\n",
        ")\n",
        "\n",
        "# Load the best weights from final training\n",
        "final_model.load_weights('best_final_model.h5')\n",
        "\n",
        "# Evaluate the final model on the test set\n",
        "test_loss, test_accuracy = final_model.evaluate(test_generator)\n",
        "print(f'Final Test Accuracy: {test_accuracy * 100:.2f}%')\n",
        "\n",
        "# Generate predictions and print classification report and confusion matrix\n",
        "Y_pred = final_model.predict(test_generator)\n",
        "y_pred = np.argmax(Y_pred, axis=1)\n",
        "\n",
        "print(\"Classification Report\")\n",
        "print(classification_report(test_generator.classes, y_pred, target_names=categories))\n",
        "\n",
        "print(\"Confusion Matrix\")\n",
        "print(confusion_matrix(test_generator.classes, y_pred))\n",
        "\n",
        "# Plot training & validation accuracy and loss for the final model\n",
        "plt.figure(figsize=(12, 4))\n",
        "plt.subplot(1, 2, 1)\n",
        "plt.plot(final_history.history['accuracy'], label='Train')\n",
        "plt.plot(final_history.history['val_accuracy'], label='Validation')\n",
        "plt.title('Final Model Accuracy')\n",
        "plt.ylabel('Accuracy')\n",
        "plt.xlabel('Epoch')\n",
        "plt.legend(loc='upper left')\n",
        "\n",
        "plt.subplot(1, 2, 2)\n",
        "plt.plot(final_history.history['loss'], label='Train')\n",
        "plt.plot(final_history.history['val_loss'], label='Validation')\n",
        "plt.title('Final Model Loss')\n",
        "plt.ylabel('Loss')\n",
        "plt.xlabel('Epoch')\n",
        "plt.legend(loc='upper left')\n",
        "plt.show()\n"
      ],
      "metadata": {
        "colab": {
          "base_uri": "https://localhost:8080/",
          "height": 1000
        },
        "id": "g1kxe2TrlzoO",
        "outputId": "335be78c-c5a3-4c17-9f3a-17553d5da1f9"
      },
      "execution_count": null,
      "outputs": [
        {
          "output_type": "stream",
          "name": "stdout",
          "text": [
            "Collecting pygad\n",
            "  Downloading pygad-3.4.0-py3-none-any.whl.metadata (23 kB)\n",
            "Requirement already satisfied: cloudpickle in /usr/local/lib/python3.11/dist-packages (from pygad) (3.1.1)\n",
            "Requirement already satisfied: matplotlib in /usr/local/lib/python3.11/dist-packages (from pygad) (3.10.0)\n",
            "Requirement already satisfied: numpy in /usr/local/lib/python3.11/dist-packages (from pygad) (1.26.4)\n",
            "Requirement already satisfied: contourpy>=1.0.1 in /usr/local/lib/python3.11/dist-packages (from matplotlib->pygad) (1.3.1)\n",
            "Requirement already satisfied: cycler>=0.10 in /usr/local/lib/python3.11/dist-packages (from matplotlib->pygad) (0.12.1)\n",
            "Requirement already satisfied: fonttools>=4.22.0 in /usr/local/lib/python3.11/dist-packages (from matplotlib->pygad) (4.56.0)\n",
            "Requirement already satisfied: kiwisolver>=1.3.1 in /usr/local/lib/python3.11/dist-packages (from matplotlib->pygad) (1.4.8)\n",
            "Requirement already satisfied: packaging>=20.0 in /usr/local/lib/python3.11/dist-packages (from matplotlib->pygad) (24.2)\n",
            "Requirement already satisfied: pillow>=8 in /usr/local/lib/python3.11/dist-packages (from matplotlib->pygad) (11.1.0)\n",
            "Requirement already satisfied: pyparsing>=2.3.1 in /usr/local/lib/python3.11/dist-packages (from matplotlib->pygad) (3.2.1)\n",
            "Requirement already satisfied: python-dateutil>=2.7 in /usr/local/lib/python3.11/dist-packages (from matplotlib->pygad) (2.8.2)\n",
            "Requirement already satisfied: six>=1.5 in /usr/local/lib/python3.11/dist-packages (from python-dateutil>=2.7->matplotlib->pygad) (1.17.0)\n",
            "Downloading pygad-3.4.0-py3-none-any.whl (86 kB)\n",
            "\u001b[?25l   \u001b[90m━━━━━━━━━━━━━━━━━━━━━━━━━━━━━━━━━━━━━━━━\u001b[0m \u001b[32m0.0/86.8 kB\u001b[0m \u001b[31m?\u001b[0m eta \u001b[36m-:--:--\u001b[0m\r\u001b[2K   \u001b[90m━━━━━━━━━━━━━━━━━━━━━━━━━━━━━━━━━━━━━━━━\u001b[0m \u001b[32m86.8/86.8 kB\u001b[0m \u001b[31m4.2 MB/s\u001b[0m eta \u001b[36m0:00:00\u001b[0m\n",
            "\u001b[?25hInstalling collected packages: pygad\n",
            "Successfully installed pygad-3.4.0\n",
            "Drive already mounted at /content/drive; to attempt to forcibly remount, call drive.mount(\"/content/drive\", force_remount=True).\n",
            "Found 1211 images belonging to 4 classes.\n",
            "Found 365 images belonging to 4 classes.\n",
            "Found 370 images belonging to 4 classes.\n"
          ]
        },
        {
          "output_type": "stream",
          "name": "stderr",
          "text": [
            "In PyGAD 2.20.0, the fitness function must accept 3 parameters:\n",
            "1) The instance of the 'pygad.GA' class.\n",
            "2) A solution to calculate its fitness value.\n",
            "3) The solution's index within the population.\n",
            "\n",
            "The passed fitness function named 'fitness_func' accepts 2 parameter(s).\n",
            "Traceback (most recent call last):\n",
            "  File \"/usr/local/lib/python3.11/dist-packages/pygad/pygad.py\", line 947, in __init__\n",
            "    raise ValueError(f\"In PyGAD 2.20.0, the fitness function must accept 3 parameters:\\n1) The instance of the 'pygad.GA' class.\\n2) A solution to calculate its fitness value.\\n3) The solution's index within the population.\\n\\nThe passed fitness function named '{fitness_func.__code__.co_name}' accepts {fitness_func.__code__.co_argcount} parameter(s).\")\n",
            "ValueError: In PyGAD 2.20.0, the fitness function must accept 3 parameters:\n",
            "1) The instance of the 'pygad.GA' class.\n",
            "2) A solution to calculate its fitness value.\n",
            "3) The solution's index within the population.\n",
            "\n",
            "The passed fitness function named 'fitness_func' accepts 2 parameter(s).\n",
            "ERROR:pygad.pygad:In PyGAD 2.20.0, the fitness function must accept 3 parameters:\n",
            "1) The instance of the 'pygad.GA' class.\n",
            "2) A solution to calculate its fitness value.\n",
            "3) The solution's index within the population.\n",
            "\n",
            "The passed fitness function named 'fitness_func' accepts 2 parameter(s).\n",
            "Traceback (most recent call last):\n",
            "  File \"/usr/local/lib/python3.11/dist-packages/pygad/pygad.py\", line 947, in __init__\n",
            "    raise ValueError(f\"In PyGAD 2.20.0, the fitness function must accept 3 parameters:\\n1) The instance of the 'pygad.GA' class.\\n2) A solution to calculate its fitness value.\\n3) The solution's index within the population.\\n\\nThe passed fitness function named '{fitness_func.__code__.co_name}' accepts {fitness_func.__code__.co_argcount} parameter(s).\")\n",
            "ValueError: In PyGAD 2.20.0, the fitness function must accept 3 parameters:\n",
            "1) The instance of the 'pygad.GA' class.\n",
            "2) A solution to calculate its fitness value.\n",
            "3) The solution's index within the population.\n",
            "\n",
            "The passed fitness function named 'fitness_func' accepts 2 parameter(s).\n"
          ]
        },
        {
          "output_type": "error",
          "ename": "ValueError",
          "evalue": "In PyGAD 2.20.0, the fitness function must accept 3 parameters:\n1) The instance of the 'pygad.GA' class.\n2) A solution to calculate its fitness value.\n3) The solution's index within the population.\n\nThe passed fitness function named 'fitness_func' accepts 2 parameter(s).",
          "traceback": [
            "\u001b[0;31m---------------------------------------------------------------------------\u001b[0m",
            "\u001b[0;31mValueError\u001b[0m                                Traceback (most recent call last)",
            "\u001b[0;32m<ipython-input-6-8cbbfb5004fa>\u001b[0m in \u001b[0;36m<cell line: 0>\u001b[0;34m()\u001b[0m\n\u001b[1;32m    152\u001b[0m \u001b[0;34m\u001b[0m\u001b[0m\n\u001b[1;32m    153\u001b[0m \u001b[0;31m# Create a GA instance using PyGAD\u001b[0m\u001b[0;34m\u001b[0m\u001b[0;34m\u001b[0m\u001b[0m\n\u001b[0;32m--> 154\u001b[0;31m ga_instance = pygad.GA(\n\u001b[0m\u001b[1;32m    155\u001b[0m     \u001b[0mnum_generations\u001b[0m\u001b[0;34m=\u001b[0m\u001b[0;36m10\u001b[0m\u001b[0;34m,\u001b[0m\u001b[0;34m\u001b[0m\u001b[0;34m\u001b[0m\u001b[0m\n\u001b[1;32m    156\u001b[0m     \u001b[0mnum_parents_mating\u001b[0m\u001b[0;34m=\u001b[0m\u001b[0;36m3\u001b[0m\u001b[0;34m,\u001b[0m\u001b[0;34m\u001b[0m\u001b[0;34m\u001b[0m\u001b[0m\n",
            "\u001b[0;32m/usr/local/lib/python3.11/dist-packages/pygad/pygad.py\u001b[0m in \u001b[0;36m__init__\u001b[0;34m(self, num_generations, num_parents_mating, fitness_func, fitness_batch_size, initial_population, sol_per_pop, num_genes, init_range_low, init_range_high, gene_type, parent_selection_type, keep_parents, keep_elitism, K_tournament, crossover_type, crossover_probability, mutation_type, mutation_probability, mutation_by_replacement, mutation_percent_genes, mutation_num_genes, random_mutation_min_val, random_mutation_max_val, gene_space, allow_duplicate_genes, on_start, on_fitness, on_parents, on_crossover, on_mutation, on_generation, on_stop, save_best_solutions, save_solutions, suppress_warnings, stop_criteria, parallel_processing, random_seed, logger)\u001b[0m\n\u001b[1;32m   1319\u001b[0m             \u001b[0mself\u001b[0m\u001b[0;34m.\u001b[0m\u001b[0mlogger\u001b[0m\u001b[0;34m.\u001b[0m\u001b[0mexception\u001b[0m\u001b[0;34m(\u001b[0m\u001b[0me\u001b[0m\u001b[0;34m)\u001b[0m\u001b[0;34m\u001b[0m\u001b[0;34m\u001b[0m\u001b[0m\n\u001b[1;32m   1320\u001b[0m             \u001b[0;31m# sys.exit(-1)\u001b[0m\u001b[0;34m\u001b[0m\u001b[0;34m\u001b[0m\u001b[0m\n\u001b[0;32m-> 1321\u001b[0;31m             \u001b[0;32mraise\u001b[0m \u001b[0me\u001b[0m\u001b[0;34m\u001b[0m\u001b[0;34m\u001b[0m\u001b[0m\n\u001b[0m\u001b[1;32m   1322\u001b[0m \u001b[0;34m\u001b[0m\u001b[0m\n\u001b[1;32m   1323\u001b[0m     \u001b[0;32mdef\u001b[0m \u001b[0mround_genes\u001b[0m\u001b[0;34m(\u001b[0m\u001b[0mself\u001b[0m\u001b[0;34m,\u001b[0m \u001b[0msolutions\u001b[0m\u001b[0;34m)\u001b[0m\u001b[0;34m:\u001b[0m\u001b[0;34m\u001b[0m\u001b[0;34m\u001b[0m\u001b[0m\n",
            "\u001b[0;32m/usr/local/lib/python3.11/dist-packages/pygad/pygad.py\u001b[0m in \u001b[0;36m__init__\u001b[0;34m(self, num_generations, num_parents_mating, fitness_func, fitness_batch_size, initial_population, sol_per_pop, num_genes, init_range_low, init_range_high, gene_type, parent_selection_type, keep_parents, keep_elitism, K_tournament, crossover_type, crossover_probability, mutation_type, mutation_probability, mutation_by_replacement, mutation_percent_genes, mutation_num_genes, random_mutation_min_val, random_mutation_max_val, gene_space, allow_duplicate_genes, on_start, on_fitness, on_parents, on_crossover, on_mutation, on_generation, on_stop, save_best_solutions, save_solutions, suppress_warnings, stop_criteria, parallel_processing, random_seed, logger)\u001b[0m\n\u001b[1;32m    945\u001b[0m                 \u001b[0;32melse\u001b[0m\u001b[0;34m:\u001b[0m\u001b[0;34m\u001b[0m\u001b[0;34m\u001b[0m\u001b[0m\n\u001b[1;32m    946\u001b[0m                     \u001b[0mself\u001b[0m\u001b[0;34m.\u001b[0m\u001b[0mvalid_parameters\u001b[0m \u001b[0;34m=\u001b[0m \u001b[0;32mFalse\u001b[0m\u001b[0;34m\u001b[0m\u001b[0;34m\u001b[0m\u001b[0m\n\u001b[0;32m--> 947\u001b[0;31m                     \u001b[0;32mraise\u001b[0m \u001b[0mValueError\u001b[0m\u001b[0;34m(\u001b[0m\u001b[0;34mf\"In PyGAD 2.20.0, the fitness function must accept 3 parameters:\\n1) The instance of the 'pygad.GA' class.\\n2) A solution to calculate its fitness value.\\n3) The solution's index within the population.\\n\\nThe passed fitness function named '{fitness_func.__code__.co_name}' accepts {fitness_func.__code__.co_argcount} parameter(s).\"\u001b[0m\u001b[0;34m)\u001b[0m\u001b[0;34m\u001b[0m\u001b[0;34m\u001b[0m\u001b[0m\n\u001b[0m\u001b[1;32m    948\u001b[0m             \u001b[0;32melse\u001b[0m\u001b[0;34m:\u001b[0m\u001b[0;34m\u001b[0m\u001b[0;34m\u001b[0m\u001b[0m\n\u001b[1;32m    949\u001b[0m                 \u001b[0mself\u001b[0m\u001b[0;34m.\u001b[0m\u001b[0mvalid_parameters\u001b[0m \u001b[0;34m=\u001b[0m \u001b[0;32mFalse\u001b[0m\u001b[0;34m\u001b[0m\u001b[0;34m\u001b[0m\u001b[0m\n",
            "\u001b[0;31mValueError\u001b[0m: In PyGAD 2.20.0, the fitness function must accept 3 parameters:\n1) The instance of the 'pygad.GA' class.\n2) A solution to calculate its fitness value.\n3) The solution's index within the population.\n\nThe passed fitness function named 'fitness_func' accepts 2 parameter(s)."
          ]
        }
      ]
    },
    {
      "cell_type": "code",
      "source": [
        "# Uncomment the next line if PyGAD is not already installed in your Colab environment\n",
        "!pip install pygad\n",
        "\n",
        "import tensorflow as tf\n",
        "from tensorflow.keras.preprocessing.image import ImageDataGenerator\n",
        "from tensorflow.keras.applications import VGG16\n",
        "from tensorflow.keras.models import Model\n",
        "from tensorflow.keras.layers import Dense, Flatten, Dropout\n",
        "from tensorflow.keras.optimizers import Adam\n",
        "from tensorflow.keras.callbacks import EarlyStopping, ModelCheckpoint\n",
        "from sklearn.metrics import classification_report, confusion_matrix\n",
        "import matplotlib.pyplot as plt\n",
        "import numpy as np\n",
        "import os, shutil\n",
        "import pygad\n",
        "\n",
        "# Mount Google Drive to access the dataset\n",
        "from google.colab import drive\n",
        "drive.mount('/content/drive')\n",
        "\n",
        "# Define the path to the dataset in your Drive\n",
        "dataset_path = '/content/drive/MyDrive/DataSet'\n",
        "\n",
        "# Define paths for train, validation, and test directories (in Colab local storage)\n",
        "base_dir = '/content/skin_type_data'\n",
        "train_dir = os.path.join(base_dir, 'train')\n",
        "val_dir = os.path.join(base_dir, 'val')\n",
        "test_dir = os.path.join(base_dir, 'test')\n",
        "\n",
        "# Define the categories\n",
        "categories = ['Dry Skin', 'Acne Skin', 'Oily Skin', 'Normal Skin']\n",
        "\n",
        "# Create directories for train, validation, and test sets if they don't exist\n",
        "for category in categories:\n",
        "    os.makedirs(os.path.join(train_dir, category), exist_ok=True)\n",
        "    os.makedirs(os.path.join(val_dir, category), exist_ok=True)\n",
        "    os.makedirs(os.path.join(test_dir, category), exist_ok=True)\n",
        "\n",
        "# Function to split data into train, validation, and test sets\n",
        "def split_data(SOURCE, TRAINING, VALIDATION, TESTING, SPLIT_SIZE):\n",
        "    all_files = os.listdir(SOURCE)\n",
        "    np.random.shuffle(all_files)\n",
        "    train_size = int(len(all_files) * SPLIT_SIZE[0])\n",
        "    val_size = int(len(all_files) * SPLIT_SIZE[1])\n",
        "    train_files = all_files[:train_size]\n",
        "    val_files = all_files[train_size:train_size + val_size]\n",
        "    test_files = all_files[train_size + val_size:]\n",
        "\n",
        "    for file_name in train_files:\n",
        "        shutil.copy(os.path.join(SOURCE, file_name), os.path.join(TRAINING, file_name))\n",
        "    for file_name in val_files:\n",
        "        shutil.copy(os.path.join(SOURCE, file_name), os.path.join(VALIDATION, file_name))\n",
        "    for file_name in test_files:\n",
        "        shutil.copy(os.path.join(SOURCE, file_name), os.path.join(TESTING, file_name))\n",
        "\n",
        "# Split the data (70% train, 15% validation, 15% test)\n",
        "split_size = [0.7, 0.15, 0.15]\n",
        "for category in categories:\n",
        "    category_path = os.path.join(dataset_path, category)\n",
        "    train_category_path = os.path.join(train_dir, category)\n",
        "    val_category_path = os.path.join(val_dir, category)\n",
        "    test_category_path = os.path.join(test_dir, category)\n",
        "    split_data(category_path, train_category_path, val_category_path, test_category_path, split_size)\n",
        "\n",
        "# Data augmentation and preprocessing\n",
        "train_datagen = ImageDataGenerator(\n",
        "    rescale=1./255,\n",
        "    rotation_range=20,\n",
        "    width_shift_range=0.2,\n",
        "    height_shift_range=0.2,\n",
        "    shear_range=0.2,\n",
        "    zoom_range=0.2,\n",
        "    horizontal_flip=True,\n",
        "    fill_mode='nearest'\n",
        ")\n",
        "val_test_datagen = ImageDataGenerator(rescale=1./255)\n",
        "\n",
        "# Data generators\n",
        "train_generator = train_datagen.flow_from_directory(\n",
        "    train_dir,\n",
        "    target_size=(224, 224),\n",
        "    batch_size=32,\n",
        "    class_mode='categorical'\n",
        ")\n",
        "val_generator = val_test_datagen.flow_from_directory(\n",
        "    val_dir,\n",
        "    target_size=(224, 224),\n",
        "    batch_size=32,\n",
        "    class_mode='categorical'\n",
        ")\n",
        "test_generator = val_test_datagen.flow_from_directory(\n",
        "    test_dir,\n",
        "    target_size=(224, 224),\n",
        "    batch_size=32,\n",
        "    class_mode='categorical',\n",
        "    shuffle=False\n",
        ")\n",
        "\n",
        "# ----------------------------- #\n",
        "# GA-BASED HYPERPARAMETER TUNING\n",
        "# ----------------------------- #\n",
        "\n",
        "# Build model function parameterized by hyperparameters\n",
        "def build_model(learning_rate, dropout_rate, dense_units):\n",
        "    base_model = VGG16(weights='imagenet', include_top=False, input_shape=(224, 224, 3))\n",
        "    # Freeze base model layers\n",
        "    for layer in base_model.layers:\n",
        "        layer.trainable = False\n",
        "    x = base_model.output\n",
        "    x = Flatten()(x)\n",
        "    x = Dense(dense_units, activation='relu')(x)\n",
        "    x = Dropout(dropout_rate)(x)\n",
        "    predictions = Dense(len(categories), activation='softmax')(x)\n",
        "    model = Model(inputs=base_model.input, outputs=predictions)\n",
        "    model.compile(optimizer=Adam(learning_rate=learning_rate),\n",
        "                  loss='categorical_crossentropy',\n",
        "                  metrics=['accuracy'])\n",
        "    return model\n",
        "\n",
        "# Updated fitness function to accept 3 parameters: (ga_instance, solution, solution_idx)\n",
        "def fitness_func(ga_instance, solution, solution_idx):\n",
        "    learning_rate = solution[0]\n",
        "    dropout_rate = solution[1]\n",
        "    dense_units = int(solution[2])\n",
        "\n",
        "    # Build the model with candidate hyperparameters\n",
        "    model = build_model(learning_rate, dropout_rate, dense_units)\n",
        "\n",
        "    # Train for only 3 epochs for fast evaluation\n",
        "    history = model.fit(\n",
        "        train_generator,\n",
        "        epochs=3,\n",
        "        validation_data=val_generator,\n",
        "        verbose=0\n",
        "    )\n",
        "\n",
        "    # Use final epoch validation accuracy as fitness value\n",
        "    val_accuracy = history.history['val_accuracy'][-1]\n",
        "\n",
        "    # Clear session to free resources\n",
        "    tf.keras.backend.clear_session()\n",
        "    return val_accuracy\n",
        "\n",
        "# Define gene space (ranges for learning rate, dropout rate, and dense units)\n",
        "gene_space = [\n",
        "    {'low': 1e-5, 'high': 1e-2},  # Learning rate\n",
        "    {'low': 0.2, 'high': 0.7},     # Dropout rate\n",
        "    {'low': 256, 'high': 1024}     # Dense layer units\n",
        "]\n",
        "\n",
        "# Create a GA instance using PyGAD with the updated fitness function\n",
        "ga_instance = pygad.GA(\n",
        "    num_generations=10,\n",
        "    num_parents_mating=3,\n",
        "    fitness_func=fitness_func,\n",
        "    sol_per_pop=5,\n",
        "    num_genes=3,\n",
        "    gene_space=gene_space,\n",
        "    mutation_probability=0.2,\n",
        "    mutation_percent_genes=50,\n",
        "    stop_criteria=[\"reach_0.95\"]\n",
        ")\n",
        "\n",
        "# Run GA optimization\n",
        "ga_instance.run()\n",
        "\n",
        "# Retrieve the best solution from GA\n",
        "solution, solution_fitness, solution_idx = ga_instance.best_solution()\n",
        "best_learning_rate = solution[0]\n",
        "best_dropout_rate = solution[1]\n",
        "best_dense_units = int(solution[2])\n",
        "print(\"Best hyperparameters found:\")\n",
        "print(\"Learning Rate:\", best_learning_rate)\n",
        "print(\"Dropout Rate:\", best_dropout_rate)\n",
        "print(\"Dense Units:\", best_dense_units)\n",
        "print(\"Validation Accuracy (Fitness):\", solution_fitness)\n",
        "\n",
        "# ----------------------------- #\n",
        "# FINAL MODEL TRAINING\n",
        "# ----------------------------- #\n",
        "\n",
        "# Build final model using the best hyperparameters\n",
        "final_model = build_model(best_learning_rate, best_dropout_rate, best_dense_units)\n",
        "\n",
        "# Set up callbacks for training\n",
        "final_early_stopping = EarlyStopping(monitor='val_loss', patience=5, restore_best_weights=True)\n",
        "final_checkpoint = ModelCheckpoint('best_final_model.h5', monitor='val_loss', save_best_only=True)\n",
        "\n",
        "# Train the final model for a full run (e.g., 50 epochs)\n",
        "final_history = final_model.fit(\n",
        "    train_generator,\n",
        "    epochs=50,\n",
        "    validation_data=val_generator,\n",
        "    callbacks=[final_early_stopping, final_checkpoint]\n",
        ")\n",
        "\n",
        "# Load the best weights from final training\n",
        "final_model.load_weights('best_final_model.h5')\n",
        "\n",
        "# Evaluate the final model on the test set\n",
        "test_loss, test_accuracy = final_model.evaluate(test_generator)\n",
        "print(f'Final Test Accuracy: {test_accuracy * 100:.2f}%')\n",
        "\n",
        "# Generate predictions and display performance metrics\n",
        "Y_pred = final_model.predict(test_generator)\n",
        "y_pred = np.argmax(Y_pred, axis=1)\n",
        "\n",
        "print(\"Classification Report\")\n",
        "print(classification_report(test_generator.classes, y_pred, target_names=categories))\n",
        "\n",
        "print(\"Confusion Matrix\")\n",
        "print(confusion_matrix(test_generator.classes, y_pred))\n",
        "\n",
        "# Plot training & validation accuracy and loss curves\n",
        "plt.figure(figsize=(12, 4))\n",
        "plt.subplot(1, 2, 1)\n",
        "plt.plot(final_history.history['accuracy'], label='Train')\n",
        "plt.plot(final_history.history['val_accuracy'], label='Validation')\n",
        "plt.title('Final Model Accuracy')\n",
        "plt.ylabel('Accuracy')\n",
        "plt.xlabel('Epoch')\n",
        "plt.legend(loc='upper left')\n",
        "\n",
        "plt.subplot(1, 2, 2)\n",
        "plt.plot(final_history.history['loss'], label='Train')\n",
        "plt.plot(final_history.history['val_loss'], label='Validation')\n",
        "plt.title('Final Model Loss')\n",
        "plt.ylabel('Loss')\n",
        "plt.xlabel('Epoch')\n",
        "plt.legend(loc='upper left')\n",
        "plt.show()\n"
      ],
      "metadata": {
        "colab": {
          "base_uri": "https://localhost:8080/",
          "height": 1000
        },
        "id": "2zxJAWXlu0A3",
        "outputId": "8d43ef44-2ada-48cd-99e4-a3428a2043b5"
      },
      "execution_count": null,
      "outputs": [
        {
          "output_type": "stream",
          "name": "stdout",
          "text": [
            "Requirement already satisfied: pygad in /usr/local/lib/python3.11/dist-packages (3.4.0)\n",
            "Requirement already satisfied: cloudpickle in /usr/local/lib/python3.11/dist-packages (from pygad) (3.1.1)\n",
            "Requirement already satisfied: matplotlib in /usr/local/lib/python3.11/dist-packages (from pygad) (3.10.0)\n",
            "Requirement already satisfied: numpy in /usr/local/lib/python3.11/dist-packages (from pygad) (1.26.4)\n",
            "Requirement already satisfied: contourpy>=1.0.1 in /usr/local/lib/python3.11/dist-packages (from matplotlib->pygad) (1.3.1)\n",
            "Requirement already satisfied: cycler>=0.10 in /usr/local/lib/python3.11/dist-packages (from matplotlib->pygad) (0.12.1)\n",
            "Requirement already satisfied: fonttools>=4.22.0 in /usr/local/lib/python3.11/dist-packages (from matplotlib->pygad) (4.56.0)\n",
            "Requirement already satisfied: kiwisolver>=1.3.1 in /usr/local/lib/python3.11/dist-packages (from matplotlib->pygad) (1.4.8)\n",
            "Requirement already satisfied: packaging>=20.0 in /usr/local/lib/python3.11/dist-packages (from matplotlib->pygad) (24.2)\n",
            "Requirement already satisfied: pillow>=8 in /usr/local/lib/python3.11/dist-packages (from matplotlib->pygad) (11.1.0)\n",
            "Requirement already satisfied: pyparsing>=2.3.1 in /usr/local/lib/python3.11/dist-packages (from matplotlib->pygad) (3.2.1)\n",
            "Requirement already satisfied: python-dateutil>=2.7 in /usr/local/lib/python3.11/dist-packages (from matplotlib->pygad) (2.8.2)\n",
            "Requirement already satisfied: six>=1.5 in /usr/local/lib/python3.11/dist-packages (from python-dateutil>=2.7->matplotlib->pygad) (1.17.0)\n",
            "Drive already mounted at /content/drive; to attempt to forcibly remount, call drive.mount(\"/content/drive\", force_remount=True).\n",
            "Found 1303 images belonging to 4 classes.\n",
            "Found 502 images belonging to 4 classes.\n",
            "Found 519 images belonging to 4 classes.\n"
          ]
        },
        {
          "output_type": "stream",
          "name": "stderr",
          "text": [
            "/usr/local/lib/python3.11/dist-packages/keras/src/trainers/data_adapters/py_dataset_adapter.py:121: UserWarning: Your `PyDataset` class should call `super().__init__(**kwargs)` in its constructor. `**kwargs` can include `workers`, `use_multiprocessing`, `max_queue_size`. Do not pass these arguments to `fit()`, as they will be ignored.\n",
            "  self._warn_if_super_not_called()\n"
          ]
        },
        {
          "output_type": "stream",
          "name": "stdout",
          "text": [
            "Best hyperparameters found:\n",
            "Learning Rate: 0.0030383031014482825\n",
            "Dropout Rate: 0.22021185284448797\n",
            "Dense Units: 895\n",
            "Validation Accuracy (Fitness): 0.8127490282058716\n",
            "Epoch 1/50\n",
            "\u001b[1m41/41\u001b[0m \u001b[32m━━━━━━━━━━━━━━━━━━━━\u001b[0m\u001b[37m\u001b[0m \u001b[1m0s\u001b[0m 522ms/step - accuracy: 0.4092 - loss: 13.6596"
          ]
        },
        {
          "output_type": "stream",
          "name": "stderr",
          "text": [
            "WARNING:absl:You are saving your model as an HDF5 file via `model.save()` or `keras.saving.save_model(model)`. This file format is considered legacy. We recommend using instead the native Keras format, e.g. `model.save('my_model.keras')` or `keras.saving.save_model(model, 'my_model.keras')`. \n"
          ]
        },
        {
          "output_type": "stream",
          "name": "stdout",
          "text": [
            "\b\b\b\b\b\b\b\b\b\b\b\b\b\b\b\b\b\b\b\b\b\b\b\b\b\b\b\b\b\b\b\b\b\b\b\b\b\b\b\b\b\b\b\b\b\b\b\b\b\b\b\b\b\b\b\b\b\b\b\b\b\b\b\b\b\b\b\b\b\b\b\b\b\b\b\r\u001b[1m41/41\u001b[0m \u001b[32m━━━━━━━━━━━━━━━━━━━━\u001b[0m\u001b[37m\u001b[0m \u001b[1m30s\u001b[0m 672ms/step - accuracy: 0.4119 - loss: 13.5178 - val_accuracy: 0.7430 - val_loss: 0.6106\n",
            "Epoch 2/50\n",
            "\u001b[1m41/41\u001b[0m \u001b[32m━━━━━━━━━━━━━━━━━━━━\u001b[0m\u001b[37m\u001b[0m \u001b[1m0s\u001b[0m 496ms/step - accuracy: 0.6738 - loss: 0.8106"
          ]
        },
        {
          "output_type": "stream",
          "name": "stderr",
          "text": [
            "WARNING:absl:You are saving your model as an HDF5 file via `model.save()` or `keras.saving.save_model(model)`. This file format is considered legacy. We recommend using instead the native Keras format, e.g. `model.save('my_model.keras')` or `keras.saving.save_model(model, 'my_model.keras')`. \n"
          ]
        },
        {
          "output_type": "stream",
          "name": "stdout",
          "text": [
            "\b\b\b\b\b\b\b\b\b\b\b\b\b\b\b\b\b\b\b\b\b\b\b\b\b\b\b\b\b\b\b\b\b\b\b\b\b\b\b\b\b\b\b\b\b\b\b\b\b\b\b\b\b\b\b\b\b\b\b\b\b\b\b\b\b\b\b\b\b\b\b\b\b\b\r\u001b[1m41/41\u001b[0m \u001b[32m━━━━━━━━━━━━━━━━━━━━\u001b[0m\u001b[37m\u001b[0m \u001b[1m25s\u001b[0m 604ms/step - accuracy: 0.6748 - loss: 0.8092 - val_accuracy: 0.7410 - val_loss: 0.6047\n",
            "Epoch 3/50\n",
            "\u001b[1m41/41\u001b[0m \u001b[32m━━━━━━━━━━━━━━━━━━━━\u001b[0m\u001b[37m\u001b[0m \u001b[1m0s\u001b[0m 508ms/step - accuracy: 0.7197 - loss: 0.6736"
          ]
        },
        {
          "output_type": "stream",
          "name": "stderr",
          "text": [
            "WARNING:absl:You are saving your model as an HDF5 file via `model.save()` or `keras.saving.save_model(model)`. This file format is considered legacy. We recommend using instead the native Keras format, e.g. `model.save('my_model.keras')` or `keras.saving.save_model(model, 'my_model.keras')`. \n"
          ]
        },
        {
          "output_type": "stream",
          "name": "stdout",
          "text": [
            "\b\b\b\b\b\b\b\b\b\b\b\b\b\b\b\b\b\b\b\b\b\b\b\b\b\b\b\b\b\b\b\b\b\b\b\b\b\b\b\b\b\b\b\b\b\b\b\b\b\b\b\b\b\b\b\b\b\b\b\b\b\b\b\b\b\b\b\b\b\b\b\b\b\b\r\u001b[1m41/41\u001b[0m \u001b[32m━━━━━━━━━━━━━━━━━━━━\u001b[0m\u001b[37m\u001b[0m \u001b[1m28s\u001b[0m 673ms/step - accuracy: 0.7200 - loss: 0.6732 - val_accuracy: 0.8187 - val_loss: 0.5193\n",
            "Epoch 4/50\n",
            "\u001b[1m41/41\u001b[0m \u001b[32m━━━━━━━━━━━━━━━━━━━━\u001b[0m\u001b[37m\u001b[0m \u001b[1m36s\u001b[0m 552ms/step - accuracy: 0.7717 - loss: 0.6048 - val_accuracy: 0.7809 - val_loss: 0.5820\n",
            "Epoch 5/50\n",
            "\u001b[1m41/41\u001b[0m \u001b[32m━━━━━━━━━━━━━━━━━━━━\u001b[0m\u001b[37m\u001b[0m \u001b[1m0s\u001b[0m 506ms/step - accuracy: 0.7552 - loss: 0.6116"
          ]
        },
        {
          "output_type": "stream",
          "name": "stderr",
          "text": [
            "WARNING:absl:You are saving your model as an HDF5 file via `model.save()` or `keras.saving.save_model(model)`. This file format is considered legacy. We recommend using instead the native Keras format, e.g. `model.save('my_model.keras')` or `keras.saving.save_model(model, 'my_model.keras')`. \n"
          ]
        },
        {
          "output_type": "stream",
          "name": "stdout",
          "text": [
            "\b\b\b\b\b\b\b\b\b\b\b\b\b\b\b\b\b\b\b\b\b\b\b\b\b\b\b\b\b\b\b\b\b\b\b\b\b\b\b\b\b\b\b\b\b\b\b\b\b\b\b\b\b\b\b\b\b\b\b\b\b\b\b\b\b\b\b\b\b\b\b\b\b\b\r\u001b[1m41/41\u001b[0m \u001b[32m━━━━━━━━━━━━━━━━━━━━\u001b[0m\u001b[37m\u001b[0m \u001b[1m31s\u001b[0m 755ms/step - accuracy: 0.7550 - loss: 0.6121 - val_accuracy: 0.8207 - val_loss: 0.4813\n",
            "Epoch 6/50\n",
            "\u001b[1m41/41\u001b[0m \u001b[32m━━━━━━━━━━━━━━━━━━━━\u001b[0m\u001b[37m\u001b[0m \u001b[1m25s\u001b[0m 608ms/step - accuracy: 0.8049 - loss: 0.5196 - val_accuracy: 0.7948 - val_loss: 0.5338\n",
            "Epoch 7/50\n",
            "\u001b[1m41/41\u001b[0m \u001b[32m━━━━━━━━━━━━━━━━━━━━\u001b[0m\u001b[37m\u001b[0m \u001b[1m25s\u001b[0m 609ms/step - accuracy: 0.7722 - loss: 0.5801 - val_accuracy: 0.7849 - val_loss: 0.5115\n",
            "Epoch 8/50\n",
            "\u001b[1m41/41\u001b[0m \u001b[32m━━━━━━━━━━━━━━━━━━━━\u001b[0m\u001b[37m\u001b[0m \u001b[1m0s\u001b[0m 479ms/step - accuracy: 0.7945 - loss: 0.5466"
          ]
        },
        {
          "output_type": "stream",
          "name": "stderr",
          "text": [
            "WARNING:absl:You are saving your model as an HDF5 file via `model.save()` or `keras.saving.save_model(model)`. This file format is considered legacy. We recommend using instead the native Keras format, e.g. `model.save('my_model.keras')` or `keras.saving.save_model(model, 'my_model.keras')`. \n"
          ]
        },
        {
          "output_type": "stream",
          "name": "stdout",
          "text": [
            "\b\b\b\b\b\b\b\b\b\b\b\b\b\b\b\b\b\b\b\b\b\b\b\b\b\b\b\b\b\b\b\b\b\b\b\b\b\b\b\b\b\b\b\b\b\b\b\b\b\b\b\b\b\b\b\b\b\b\b\b\b\b\b\b\b\b\b\b\b\b\b\b\b\b\r\u001b[1m41/41\u001b[0m \u001b[32m━━━━━━━━━━━━━━━━━━━━\u001b[0m\u001b[37m\u001b[0m \u001b[1m25s\u001b[0m 609ms/step - accuracy: 0.7944 - loss: 0.5466 - val_accuracy: 0.8367 - val_loss: 0.3992\n",
            "Epoch 9/50\n",
            "\u001b[1m41/41\u001b[0m \u001b[32m━━━━━━━━━━━━━━━━━━━━\u001b[0m\u001b[37m\u001b[0m \u001b[1m0s\u001b[0m 473ms/step - accuracy: 0.8105 - loss: 0.5143"
          ]
        },
        {
          "output_type": "stream",
          "name": "stderr",
          "text": [
            "WARNING:absl:You are saving your model as an HDF5 file via `model.save()` or `keras.saving.save_model(model)`. This file format is considered legacy. We recommend using instead the native Keras format, e.g. `model.save('my_model.keras')` or `keras.saving.save_model(model, 'my_model.keras')`. \n"
          ]
        },
        {
          "output_type": "stream",
          "name": "stdout",
          "text": [
            "\b\b\b\b\b\b\b\b\b\b\b\b\b\b\b\b\b\b\b\b\b\b\b\b\b\b\b\b\b\b\b\b\b\b\b\b\b\b\b\b\b\b\b\b\b\b\b\b\b\b\b\b\b\b\b\b\b\b\b\b\b\b\b\b\b\b\b\b\b\b\b\b\b\b\r\u001b[1m41/41\u001b[0m \u001b[32m━━━━━━━━━━━━━━━━━━━━\u001b[0m\u001b[37m\u001b[0m \u001b[1m24s\u001b[0m 585ms/step - accuracy: 0.8106 - loss: 0.5141 - val_accuracy: 0.8625 - val_loss: 0.3705\n",
            "Epoch 10/50\n",
            "\u001b[1m41/41\u001b[0m \u001b[32m━━━━━━━━━━━━━━━━━━━━\u001b[0m\u001b[37m\u001b[0m \u001b[1m25s\u001b[0m 603ms/step - accuracy: 0.8101 - loss: 0.5153 - val_accuracy: 0.7928 - val_loss: 0.5229\n",
            "Epoch 11/50\n",
            "\u001b[1m41/41\u001b[0m \u001b[32m━━━━━━━━━━━━━━━━━━━━\u001b[0m\u001b[37m\u001b[0m \u001b[1m24s\u001b[0m 585ms/step - accuracy: 0.8023 - loss: 0.5169 - val_accuracy: 0.8506 - val_loss: 0.3743\n",
            "Epoch 12/50\n",
            "\u001b[1m41/41\u001b[0m \u001b[32m━━━━━━━━━━━━━━━━━━━━\u001b[0m\u001b[37m\u001b[0m \u001b[1m23s\u001b[0m 568ms/step - accuracy: 0.8331 - loss: 0.4150 - val_accuracy: 0.8586 - val_loss: 0.3731\n",
            "Epoch 13/50\n",
            "\u001b[1m41/41\u001b[0m \u001b[32m━━━━━━━━━━━━━━━━━━━━\u001b[0m\u001b[37m\u001b[0m \u001b[1m25s\u001b[0m 606ms/step - accuracy: 0.8115 - loss: 0.4890 - val_accuracy: 0.8426 - val_loss: 0.3952\n",
            "Epoch 14/50\n",
            "\u001b[1m41/41\u001b[0m \u001b[32m━━━━━━━━━━━━━━━━━━━━\u001b[0m\u001b[37m\u001b[0m \u001b[1m0s\u001b[0m 476ms/step - accuracy: 0.8149 - loss: 0.4763"
          ]
        },
        {
          "output_type": "stream",
          "name": "stderr",
          "text": [
            "WARNING:absl:You are saving your model as an HDF5 file via `model.save()` or `keras.saving.save_model(model)`. This file format is considered legacy. We recommend using instead the native Keras format, e.g. `model.save('my_model.keras')` or `keras.saving.save_model(model, 'my_model.keras')`. \n"
          ]
        },
        {
          "output_type": "stream",
          "name": "stdout",
          "text": [
            "\b\b\b\b\b\b\b\b\b\b\b\b\b\b\b\b\b\b\b\b\b\b\b\b\b\b\b\b\b\b\b\b\b\b\b\b\b\b\b\b\b\b\b\b\b\b\b\b\b\b\b\b\b\b\b\b\b\b\b\b\b\b\b\b\b\b\b\b\b\b\b\b\b\b\r\u001b[1m41/41\u001b[0m \u001b[32m━━━━━━━━━━━━━━━━━━━━\u001b[0m\u001b[37m\u001b[0m \u001b[1m29s\u001b[0m 705ms/step - accuracy: 0.8152 - loss: 0.4759 - val_accuracy: 0.8586 - val_loss: 0.3561\n",
            "Epoch 15/50\n",
            "\u001b[1m41/41\u001b[0m \u001b[32m━━━━━━━━━━━━━━━━━━━━\u001b[0m\u001b[37m\u001b[0m \u001b[1m0s\u001b[0m 493ms/step - accuracy: 0.7956 - loss: 0.5008"
          ]
        },
        {
          "output_type": "stream",
          "name": "stderr",
          "text": [
            "WARNING:absl:You are saving your model as an HDF5 file via `model.save()` or `keras.saving.save_model(model)`. This file format is considered legacy. We recommend using instead the native Keras format, e.g. `model.save('my_model.keras')` or `keras.saving.save_model(model, 'my_model.keras')`. \n"
          ]
        },
        {
          "output_type": "stream",
          "name": "stdout",
          "text": [
            "\b\b\b\b\b\b\b\b\b\b\b\b\b\b\b\b\b\b\b\b\b\b\b\b\b\b\b\b\b\b\b\b\b\b\b\b\b\b\b\b\b\b\b\b\b\b\b\b\b\b\b\b\b\b\b\b\b\b\b\b\b\b\b\b\b\b\b\b\b\b\b\b\b\b\r\u001b[1m41/41\u001b[0m \u001b[32m━━━━━━━━━━━━━━━━━━━━\u001b[0m\u001b[37m\u001b[0m \u001b[1m28s\u001b[0m 675ms/step - accuracy: 0.7961 - loss: 0.5002 - val_accuracy: 0.8884 - val_loss: 0.3179\n",
            "Epoch 16/50\n",
            "\u001b[1m41/41\u001b[0m \u001b[32m━━━━━━━━━━━━━━━━━━━━\u001b[0m\u001b[37m\u001b[0m \u001b[1m23s\u001b[0m 569ms/step - accuracy: 0.8199 - loss: 0.4869 - val_accuracy: 0.8685 - val_loss: 0.3293\n",
            "Epoch 17/50\n",
            "\u001b[1m41/41\u001b[0m \u001b[32m━━━━━━━━━━━━━━━━━━━━\u001b[0m\u001b[37m\u001b[0m \u001b[1m0s\u001b[0m 480ms/step - accuracy: 0.8366 - loss: 0.4317"
          ]
        },
        {
          "output_type": "stream",
          "name": "stderr",
          "text": [
            "WARNING:absl:You are saving your model as an HDF5 file via `model.save()` or `keras.saving.save_model(model)`. This file format is considered legacy. We recommend using instead the native Keras format, e.g. `model.save('my_model.keras')` or `keras.saving.save_model(model, 'my_model.keras')`. \n"
          ]
        },
        {
          "output_type": "stream",
          "name": "stdout",
          "text": [
            "\b\b\b\b\b\b\b\b\b\b\b\b\b\b\b\b\b\b\b\b\b\b\b\b\b\b\b\b\b\b\b\b\b\b\b\b\b\b\b\b\b\b\b\b\b\b\b\b\b\b\b\b\b\b\b\b\b\b\b\b\b\b\b\b\b\b\b\b\b\b\b\b\b\b\r\u001b[1m41/41\u001b[0m \u001b[32m━━━━━━━━━━━━━━━━━━━━\u001b[0m\u001b[37m\u001b[0m \u001b[1m29s\u001b[0m 713ms/step - accuracy: 0.8366 - loss: 0.4319 - val_accuracy: 0.8785 - val_loss: 0.3156\n",
            "Epoch 18/50\n",
            "\u001b[1m41/41\u001b[0m \u001b[32m━━━━━━━━━━━━━━━━━━━━\u001b[0m\u001b[37m\u001b[0m \u001b[1m0s\u001b[0m 484ms/step - accuracy: 0.8317 - loss: 0.4304"
          ]
        },
        {
          "output_type": "stream",
          "name": "stderr",
          "text": [
            "WARNING:absl:You are saving your model as an HDF5 file via `model.save()` or `keras.saving.save_model(model)`. This file format is considered legacy. We recommend using instead the native Keras format, e.g. `model.save('my_model.keras')` or `keras.saving.save_model(model, 'my_model.keras')`. \n"
          ]
        },
        {
          "output_type": "stream",
          "name": "stdout",
          "text": [
            "\b\b\b\b\b\b\b\b\b\b\b\b\b\b\b\b\b\b\b\b\b\b\b\b\b\b\b\b\b\b\b\b\b\b\b\b\b\b\b\b\b\b\b\b\b\b\b\b\b\b\b\b\b\b\b\b\b\b\b\b\b\b\b\b\b\b\b\b\b\b\b\b\b\b\r\u001b[1m41/41\u001b[0m \u001b[32m━━━━━━━━━━━━━━━━━━━━\u001b[0m\u001b[37m\u001b[0m \u001b[1m25s\u001b[0m 608ms/step - accuracy: 0.8317 - loss: 0.4309 - val_accuracy: 0.8884 - val_loss: 0.3022\n",
            "Epoch 19/50\n",
            "\u001b[1m41/41\u001b[0m \u001b[32m━━━━━━━━━━━━━━━━━━━━\u001b[0m\u001b[37m\u001b[0m \u001b[1m0s\u001b[0m 490ms/step - accuracy: 0.8180 - loss: 0.4603"
          ]
        },
        {
          "output_type": "stream",
          "name": "stderr",
          "text": [
            "WARNING:absl:You are saving your model as an HDF5 file via `model.save()` or `keras.saving.save_model(model)`. This file format is considered legacy. We recommend using instead the native Keras format, e.g. `model.save('my_model.keras')` or `keras.saving.save_model(model, 'my_model.keras')`. \n"
          ]
        },
        {
          "output_type": "stream",
          "name": "stdout",
          "text": [
            "\b\b\b\b\b\b\b\b\b\b\b\b\b\b\b\b\b\b\b\b\b\b\b\b\b\b\b\b\b\b\b\b\b\b\b\b\b\b\b\b\b\b\b\b\b\b\b\b\b\b\b\b\b\b\b\b\b\b\b\b\b\b\b\b\b\b\b\b\b\b\b\b\b\b\r\u001b[1m41/41\u001b[0m \u001b[32m━━━━━━━━━━━━━━━━━━━━\u001b[0m\u001b[37m\u001b[0m \u001b[1m27s\u001b[0m 662ms/step - accuracy: 0.8178 - loss: 0.4604 - val_accuracy: 0.8984 - val_loss: 0.2783\n",
            "Epoch 20/50\n",
            "\u001b[1m41/41\u001b[0m \u001b[32m━━━━━━━━━━━━━━━━━━━━\u001b[0m\u001b[37m\u001b[0m \u001b[1m26s\u001b[0m 640ms/step - accuracy: 0.8327 - loss: 0.4564 - val_accuracy: 0.8785 - val_loss: 0.3233\n",
            "Epoch 21/50\n",
            "\u001b[1m41/41\u001b[0m \u001b[32m━━━━━━━━━━━━━━━━━━━━\u001b[0m\u001b[37m\u001b[0m \u001b[1m25s\u001b[0m 605ms/step - accuracy: 0.8213 - loss: 0.4633 - val_accuracy: 0.8964 - val_loss: 0.2926\n",
            "Epoch 22/50\n",
            "\u001b[1m41/41\u001b[0m \u001b[32m━━━━━━━━━━━━━━━━━━━━\u001b[0m\u001b[37m\u001b[0m \u001b[1m23s\u001b[0m 553ms/step - accuracy: 0.8364 - loss: 0.4576 - val_accuracy: 0.8785 - val_loss: 0.3022\n",
            "Epoch 23/50\n",
            "\u001b[1m41/41\u001b[0m \u001b[32m━━━━━━━━━━━━━━━━━━━━\u001b[0m\u001b[37m\u001b[0m \u001b[1m24s\u001b[0m 578ms/step - accuracy: 0.8084 - loss: 0.4431 - val_accuracy: 0.8924 - val_loss: 0.2888\n",
            "Epoch 24/50\n",
            "\u001b[1m41/41\u001b[0m \u001b[32m━━━━━━━━━━━━━━━━━━━━\u001b[0m\u001b[37m\u001b[0m \u001b[1m0s\u001b[0m 511ms/step - accuracy: 0.8149 - loss: 0.4532"
          ]
        },
        {
          "output_type": "stream",
          "name": "stderr",
          "text": [
            "WARNING:absl:You are saving your model as an HDF5 file via `model.save()` or `keras.saving.save_model(model)`. This file format is considered legacy. We recommend using instead the native Keras format, e.g. `model.save('my_model.keras')` or `keras.saving.save_model(model, 'my_model.keras')`. \n"
          ]
        },
        {
          "output_type": "stream",
          "name": "stdout",
          "text": [
            "\b\b\b\b\b\b\b\b\b\b\b\b\b\b\b\b\b\b\b\b\b\b\b\b\b\b\b\b\b\b\b\b\b\b\b\b\b\b\b\b\b\b\b\b\b\b\b\b\b\b\b\b\b\b\b\b\b\b\b\b\b\b\b\b\b\b\b\b\b\b\b\b\b\b\r\u001b[1m41/41\u001b[0m \u001b[32m━━━━━━━━━━━━━━━━━━━━\u001b[0m\u001b[37m\u001b[0m \u001b[1m32s\u001b[0m 790ms/step - accuracy: 0.8151 - loss: 0.4529 - val_accuracy: 0.8845 - val_loss: 0.2715\n",
            "Epoch 25/50\n",
            "\u001b[1m41/41\u001b[0m \u001b[32m━━━━━━━━━━━━━━━━━━━━\u001b[0m\u001b[37m\u001b[0m \u001b[1m23s\u001b[0m 551ms/step - accuracy: 0.8652 - loss: 0.3566 - val_accuracy: 0.8705 - val_loss: 0.3602\n",
            "Epoch 26/50\n",
            "\u001b[1m41/41\u001b[0m \u001b[32m━━━━━━━━━━━━━━━━━━━━\u001b[0m\u001b[37m\u001b[0m \u001b[1m24s\u001b[0m 582ms/step - accuracy: 0.8323 - loss: 0.4616 - val_accuracy: 0.8984 - val_loss: 0.2744\n",
            "Epoch 27/50\n",
            "\u001b[1m41/41\u001b[0m \u001b[32m━━━━━━━━━━━━━━━━━━━━\u001b[0m\u001b[37m\u001b[0m \u001b[1m39s\u001b[0m 550ms/step - accuracy: 0.8292 - loss: 0.4217 - val_accuracy: 0.8725 - val_loss: 0.3466\n",
            "Epoch 28/50\n",
            "\u001b[1m41/41\u001b[0m \u001b[32m━━━━━━━━━━━━━━━━━━━━\u001b[0m\u001b[37m\u001b[0m \u001b[1m24s\u001b[0m 583ms/step - accuracy: 0.8272 - loss: 0.4029 - val_accuracy: 0.9064 - val_loss: 0.3031\n",
            "Epoch 29/50\n",
            "\u001b[1m41/41\u001b[0m \u001b[32m━━━━━━━━━━━━━━━━━━━━\u001b[0m\u001b[37m\u001b[0m \u001b[1m24s\u001b[0m 578ms/step - accuracy: 0.8221 - loss: 0.4485 - val_accuracy: 0.8964 - val_loss: 0.2938\n",
            "\u001b[1m17/17\u001b[0m \u001b[32m━━━━━━━━━━━━━━━━━━━━\u001b[0m\u001b[37m\u001b[0m \u001b[1m7s\u001b[0m 435ms/step - accuracy: 0.9291 - loss: 0.1883\n",
            "Final Test Accuracy: 89.02%\n",
            "\u001b[1m17/17\u001b[0m \u001b[32m━━━━━━━━━━━━━━━━━━━━\u001b[0m\u001b[37m\u001b[0m \u001b[1m5s\u001b[0m 236ms/step\n",
            "Classification Report\n",
            "              precision    recall  f1-score   support\n",
            "\n",
            "    Dry Skin       0.87      0.99      0.93       146\n",
            "   Acne Skin       0.94      0.71      0.81        90\n",
            "   Oily Skin       0.89      0.97      0.93       186\n",
            " Normal Skin       0.88      0.74      0.80        97\n",
            "\n",
            "    accuracy                           0.89       519\n",
            "   macro avg       0.90      0.85      0.87       519\n",
            "weighted avg       0.89      0.89      0.89       519\n",
            "\n",
            "Confusion Matrix\n",
            "[[145   0   0   1]\n",
            " [ 10  64   9   7]\n",
            " [  3   0 181   2]\n",
            " [  8   4  13  72]]\n"
          ]
        },
        {
          "output_type": "display_data",
          "data": {
            "text/plain": [
              "<Figure size 1200x400 with 2 Axes>"
            ],
            "image/png": "[encoded data removed]"
          },
          "metadata": {}
        }
      ]
    },
    {
      "cell_type": "code",
      "source": [
        "from google.colab import drive\n",
        "drive.mount('/content/drive')\n"
      ],
      "metadata": {
        "colab": {
          "base_uri": "https://localhost:8080/"
        },
        "id": "lBT2K6MmvV9I",
        "outputId": "b1c16ab1-c1ca-471d-977d-fd570a06f896"
      },
      "execution_count": null,
      "outputs": [
        {
          "output_type": "stream",
          "name": "stdout",
          "text": [
            "Drive already mounted at /content/drive; to attempt to forcibly remount, call drive.mount(\"/content/drive\", force_remount=True).\n"
          ]
        }
      ]
    },
    {
      "cell_type": "code",
      "source": [
        "model_save_path = '/content/drive/MyDrive/skin_type_model'\n"
      ],
      "metadata": {
        "id": "PktIaa1c67k-"
      },
      "execution_count": null,
      "outputs": []
    },
    {
      "cell_type": "code",
      "source": [
        "# Save the final model with a meaningful name related to the task and dataset\n",
        "final_model.save('/content/drive/MyDrive/skin_type_model_final.h5')  # The name includes \"final\" to indicate it's the final trained model\n",
        "\n"
      ],
      "metadata": {
        "colab": {
          "base_uri": "https://localhost:8080/"
        },
        "id": "t7k9aFVM7BC3",
        "outputId": "4b39fc0d-9480-43da-a512-046ea6759a68"
      },
      "execution_count": null,
      "outputs": [
        {
          "output_type": "stream",
          "name": "stderr",
          "text": [
            "WARNING:absl:You are saving your model as an HDF5 file via `model.save()` or `keras.saving.save_model(model)`. This file format is considered legacy. We recommend using instead the native Keras format, e.g. `model.save('my_model.keras')` or `keras.saving.save_model(model, 'my_model.keras')`. \n"
          ]
        }
      ]
    },
    {
      "cell_type": "code",
      "source": [
        "# Load the saved model\n",
        "model = tf.keras.models.load_model('/content/drive/MyDrive/skin_type_model_final.h5')"
      ],
      "metadata": {
        "colab": {
          "base_uri": "https://localhost:8080/"
        },
        "id": "2VaMSTC37C3E",
        "outputId": "967d68ea-53f0-4d50-9b14-502b11260be9"
      },
      "execution_count": null,
      "outputs": [
        {
          "output_type": "stream",
          "name": "stderr",
          "text": [
            "WARNING:absl:Compiled the loaded model, but the compiled metrics have yet to be built. `model.compile_metrics` will be empty until you train or evaluate the model.\n"
          ]
        }
      ]
    },
    {
      "cell_type": "code",
      "source": [
        "# Assuming 'model' is your loaded model and 'test_generator' is your test data generator\n",
        "test_loss, test_accuracy = model.evaluate(test_generator)\n",
        "print(f'Test Accuracy: {test_accuracy * 100:.2f}%')\n"
      ],
      "metadata": {
        "colab": {
          "base_uri": "https://localhost:8080/"
        },
        "id": "HYonwi9Q8ALc",
        "outputId": "ee51fa07-f83f-4259-f8b0-76c8c06318d6"
      },
      "execution_count": null,
      "outputs": [
        {
          "output_type": "stream",
          "name": "stdout",
          "text": [
            "\u001b[1m17/17\u001b[0m \u001b[32m━━━━━━━━━━━━━━━━━━━━\u001b[0m\u001b[37m\u001b[0m \u001b[1m5s\u001b[0m 209ms/step - accuracy: 0.9291 - loss: 0.1883\n",
            "Test Accuracy: 89.02%\n"
          ]
        }
      ]
    },
    {
      "cell_type": "code",
      "source": [
        "# Evaluate the model on the validation data\n",
        "val_loss, val_accuracy = model.evaluate(val_generator, verbose=1)\n",
        "\n",
        "print(f'Validation Loss: {val_loss}')\n",
        "print(f'Validation Accuracy: {val_accuracy * 100:.2f}%')\n"
      ],
      "metadata": {
        "colab": {
          "base_uri": "https://localhost:8080/"
        },
        "id": "ebSAndJR8OVS",
        "outputId": "a173e906-32e7-419f-b906-370f913dedd1"
      },
      "execution_count": null,
      "outputs": [
        {
          "output_type": "stream",
          "name": "stdout",
          "text": [
            "\u001b[1m16/16\u001b[0m \u001b[32m━━━━━━━━━━━━━━━━━━━━\u001b[0m\u001b[37m\u001b[0m \u001b[1m5s\u001b[0m 278ms/step - accuracy: 0.8917 - loss: 0.2484\n",
            "Validation Loss: 0.27154967188835144\n",
            "Validation Accuracy: 88.45%\n"
          ]
        }
      ]
    },
    {
      "cell_type": "code",
      "source": [],
      "metadata": {
        "id": "lxQ8KnF_8XjY"
      },
      "execution_count": null,
      "outputs": []
    }
  ]
}